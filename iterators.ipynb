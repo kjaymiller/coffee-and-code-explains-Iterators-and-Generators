{
 "cells": [
  {
   "cell_type": "markdown",
   "metadata": {},
   "source": [
    "# Iterator - Python objects that you can _walk_ through"
   ]
  },
  {
   "cell_type": "markdown",
   "metadata": {},
   "source": [
    "This is best consumed with the YouTube Video found at -"
   ]
  },
  {
   "cell_type": "markdown",
   "metadata": {},
   "source": [
    "## tuples\n",
    "\n",
    "### Key Points\n",
    "\n",
    "- wrapped in `()`\n",
    "- immutable (once you set you you can't change it)\n",
    "\n",
    "### Similar Objects\n",
    "\n",
    "\n",
    "### example\n",
    "\n",
    "```python\n",
    "(1,2,3,4)\n",
    "```"
   ]
  },
  {
   "cell_type": "code",
   "execution_count": 21,
   "metadata": {},
   "outputs": [
    {
     "name": "stdout",
     "output_type": "stream",
     "text": [
      "('violet', 'indigo', 'blue', 'green', 'yellow', 'orange', 'red')\n"
     ]
    }
   ],
   "source": [
    "# normal_days_off = (\"Saturday\", \"Sunday\")\n",
    "# print(f\"{normal_days_off[0]} and {normal_days_off[1]} are my days off\")\n",
    "\n",
    "# # normal_days_off.append(\"Monday\") # This will raise an error\n",
    "\n",
    "colors_of_the_rainbow = (\"red\", \"orange\", \"yellow\", \"green\", \"blue\", \"indigo\", \"violet\")\n",
    "print(colors_of_the_rainbow[::-1])"
   ]
  },
  {
   "cell_type": "markdown",
   "metadata": {},
   "source": [
    "## Bonus - Named Tuples\n",
    "\n",
    "namedtuples - tuples with a named values\n",
    "\n",
    "great when you have similar values and can't remember the order."
   ]
  },
  {
   "cell_type": "code",
   "execution_count": 24,
   "metadata": {},
   "outputs": [
    {
     "name": "stdout",
     "output_type": "stream",
     "text": [
      "black\n",
      "('red with black trim', 'black')\n"
     ]
    }
   ],
   "source": [
    "from collections import namedtuple\n",
    "\n",
    "user_car_colors = namedtuple('user_car_colors', 'interior, exterior')\n",
    "my_car_colors = user_car_colors(interior=\"red with black trim\", exterior=\"black\")\n",
    "print(my_car_colors.exterior)\n",
    "print(my_car_colors[0:])"
   ]
  },
  {
   "cell_type": "markdown",
   "metadata": {},
   "source": [
    "## lists\n",
    "\n",
    "### Key Points\n",
    "\n",
    "- wrapped in `[]`\n",
    "- mutable (you can change it)"
   ]
  },
  {
   "cell_type": "code",
   "execution_count": 31,
   "metadata": {},
   "outputs": [
    {
     "name": "stdout",
     "output_type": "stream",
     "text": [
      "Saturday and Sunday are my days off\n",
      "I also have Monday off\n",
      "['Saturday', 'Sunday', 'Monday']\n",
      "['Saturday', 'Sunday', 'Friday', 'Monday']\n"
     ]
    }
   ],
   "source": [
    "days_off = [\"Saturday\", \"Sunday\"]\n",
    "print(f\"{days_off[0]} and {days_off[1]} are my days off\")\n",
    "\n",
    "days_off.append(\"Monday\")\n",
    "\n",
    "print(f\"I also have {days_off[-1]} off\")\n",
    "\n",
    "print(days_off)\n",
    "\n",
    "days_off.insert(3, \"Friday\")\n",
    "print(days_off)"
   ]
  },
  {
   "cell_type": "markdown",
   "metadata": {},
   "source": [
    "## dictionaries\n",
    "\n",
    "### Key Points\n",
    "\n",
    "- wrapped in `{}`\n",
    "- have keys and values\n",
    "- mutable (you can change it)"
   ]
  },
  {
   "cell_type": "code",
   "execution_count": 39,
   "metadata": {},
   "outputs": [
    {
     "name": "stdout",
     "output_type": "stream",
     "text": [
      "red\n",
      "dict_keys(['exterior_color', 'interior_color', 'wheel_style', 'wheel_size', 'sunroof', 'spoiler'])\n",
      "dict_values(['red', 'black_with_red_trim', 'chrome', 18, True, 'carbon_fiber'])\n",
      "dict_items([('exterior_color', 'red'), ('interior_color', 'black_with_red_trim'), ('wheel_style', 'chrome'), ('wheel_size', 18), ('sunroof', True), ('spoiler', 'carbon_fiber')])\n",
      "My Car Configuration\n",
      "----------\n",
      "{'exterior_color': 'red',\n",
      " 'interior_color': 'black_with_red_trim',\n",
      " 'spoiler': 'carbon_fiber',\n",
      " 'sunroof': True,\n",
      " 'wheel_size': 18,\n",
      " 'wheel_style': 'chrome'}\n",
      "\n",
      "\n",
      "\n",
      "My Updates Car Configuration\n",
      "----------\n",
      "{'engine': 'electric',\n",
      " 'exterior_color': 'red',\n",
      " 'interior_color': 'black_with_red_trim',\n",
      " 'spoiler': 'carbon_fiber',\n",
      " 'sunroof': True,\n",
      " 'transmission': 'manual',\n",
      " 'wheel_size': 'Really Large',\n",
      " 'wheel_style': 'chrome'}\n"
     ]
    }
   ],
   "source": [
    "from pprint import pprint\n",
    "\n",
    "my_car_configurator = {\n",
    "    \"exterior_color\": \"red\",\n",
    "    \"interior_color\": \"black_with_red_trim\",\n",
    "    \"wheel_style\": \"chrome\",\n",
    "    \"wheel_size\": 18,\n",
    "    \"sunroof\": True,\n",
    "    \"spoiler\": \"carbon_fiber\",\n",
    "}\n",
    "\n",
    "print(my_car_configurator[\"exterior_color\"])\n",
    "print(my_car_configurator.keys())\n",
    "print(my_car_configurator.values())\n",
    "print(my_car_configurator.items())\n",
    "\n",
    "\n",
    "\n",
    "print(f\"My Car Configuration\\n\" + \"-\" * 10)\n",
    "pprint(my_car_configurator)\n",
    "print(\"\\n\\n\")\n",
    "\n",
    "my_car_configurator[\"transmission\"] = \"manual\"\n",
    "my_car_configurator[\"wheel_size\"] = \"Really Large\" # this orverrides the previous wheel size\n",
    "my_car_configurator[\"engine\"] = \"electric\" # This doesn't make sense as electric cars don't standard transmissions\n",
    "print(f\"My Updates Car Configuration\\n\" + \"-\" * 10)\n",
    "pprint(my_car_configurator)\n"
   ]
  },
  {
   "cell_type": "markdown",
   "metadata": {},
   "source": [
    "## sets\n",
    "\n",
    "### example\n",
    "```python\n",
    "{1,2,3,4,5}\n",
    "```"
   ]
  },
  {
   "cell_type": "code",
   "execution_count": 42,
   "metadata": {},
   "outputs": [
    {
     "name": "stdout",
     "output_type": "stream",
     "text": [
      "['dog', 'cat', 'dog', 'cat', 'dog', 'cat']\n",
      "{'cat', 'dog'}\n"
     ]
    }
   ],
   "source": [
    "animals_list = [\"dog\", \"cat\", \"dog\", \"cat\", \"dog\", \"cat\"]\n",
    "print(animals_list)\n",
    "\n",
    "animals = set() # You can use {<OBJECT>} to create a set, but not {} as that creates a dictionary\n",
    "animals.add(\"dog\")\n",
    "animals.add(\"cat\")\n",
    "animals.add(\"dog\")\n",
    "animals.add(\"cat\")\n",
    "animals.add(\"dog\")\n",
    "\n",
    "\n",
    "print(animals)"
   ]
  },
  {
   "cell_type": "code",
   "execution_count": 61,
   "metadata": {},
   "outputs": [
    {
     "name": "stdout",
     "output_type": "stream",
     "text": [
      "For breakfast I had eggs\n",
      "For breakfast I had eggs\n",
      "{'porkchops', 'eggs', 'rice', 'chicken', 'yogurt'}\n"
     ]
    }
   ],
   "source": [
    "import collections\n",
    "\n",
    "\n",
    "meal = namedtuple(\"meal\", \"breakfast, lunch, dinner, snack\")\n",
    "types_of_food = [\"eggs\", \"porkchops\", \"rice\", \"yogurt\", \"ice cream\"]\n",
    "\n",
    "monday_meal = meal(breakfast='eggs', lunch=None, snack=None, dinner=\"chicken\") # breakfast, lunch, dinner\n",
    "tuesday_meal = meal('eggs', \"porkchops\", \"rice\", \"yogurt\")\n",
    "types_of_food.append(\"chicken\")\n",
    "\n",
    "resturant_menu = {\n",
    "    \"breakfast\": \"eggs\",\n",
    "    \"lunch\": \"porkchops\",\n",
    "    \"dinner\": \"rice\",\n",
    "    \"dessert\": \"ice cream\"\n",
    "}\n",
    "\n",
    "# for food in types_of_food:\n",
    "#     print(f\"Food Option - {food}\")\n",
    "\n",
    "\n",
    "# for meal in monday_meal:\n",
    "#     print(f\"I had {meal}\")\n",
    "\n",
    "\n",
    "# for section in resturant_menu:\n",
    "#     print(f\"{section.title()}\")\n",
    "\n",
    "# for food_item in resturant_menu.values():\n",
    "#     print(f\"{food_item}\")\n",
    "\n",
    "# for section in resturant_menu:\n",
    "#     print(f\"For {section} we have {resturant_menu[section]}\")\n",
    "\n",
    "# for section, food_item in resturant_menu.items():\n",
    "#     print(f\"For {section} we have {food_item}\")\n",
    "\n",
    "for day in (monday_meal, tuesday_meal):\n",
    "    print(f\"For breakfast I had {day.breakfast}\")\n",
    "\n",
    "all_types_of_food = set()\n",
    "for day in (monday_meal, tuesday_meal):\n",
    "    for meal in day:\n",
    "        if meal is not None:\n",
    "            all_types_of_food.add(meal)\n",
    "\n",
    "print(all_types_of_food)\n",
    "\n",
    "        \n",
    "\n"
   ]
  },
  {
   "cell_type": "markdown",
   "metadata": {},
   "source": [
    "## When to choose each one:\n",
    "\n",
    "### You have data that cannot be changed\n",
    "usually a tuple. If you want to assign the value to a key, you can use a `namedtuple`\n",
    "\n",
    "For More Information:\n",
    "https://docs.python.org/3/tutorial/classes.html#iterators\n",
    "https://realpython.com/python-iterators-iterables/"
   ]
  },
  {
   "cell_type": "markdown",
   "metadata": {},
   "source": [
    "## Generators\n",
    "\n",
    "A special type of iterator that is only concerned about the next item."
   ]
  },
  {
   "cell_type": "code",
   "execution_count": 75,
   "metadata": {},
   "outputs": [
    {
     "name": "stdout",
     "output_type": "stream",
     "text": [
      "On Mar 21\n",
      "For breakfast I had eggs\n",
      "For lunch I had None\n",
      "For dinner I had chicken\n",
      "For a snack I had None\n",
      "\n",
      "\n",
      "\n",
      "This is the next day\n",
      "On Mar 22\n",
      "For breakfast I had eggs\n",
      "For lunch I had porkchops\n",
      "For dinner I had rice\n",
      "For a snack I had yogurt\n",
      "\n",
      "\n",
      "\n",
      "This is the next day\n"
     ]
    }
   ],
   "source": [
    "meal = namedtuple(\"meal\", \"day, breakfast, lunch, dinner, snack\")\n",
    "\n",
    "mar_21_2024 = meal(day=\"Mar 21\", breakfast='eggs', lunch=None, snack=None, dinner=\"chicken\") # breakfast, lunch, dinner\n",
    "mar_22_2024 = meal(\"Mar 22\", 'eggs', \"porkchops\", \"rice\", \"yogurt\")\n",
    "\n",
    "\n",
    "def generate_day_meals(days):\n",
    "    for meals in days:\n",
    "        chatgpt 'do a thing!!'\n",
    "        yield\n",
    "\n",
    "days = (mar_21_2024, mar_22_2024)\n",
    "day_meals = generate_day_meals(days)\n",
    "for day in day_meals:\n",
    "    print(\"This is the next day\")"
   ]
  },
  {
   "cell_type": "code",
   "execution_count": null,
   "metadata": {},
   "outputs": [],
   "source": [
    "csv_file = open(\"data/vector_database_wikipedia_articles_embedded.csv\")\n",
    "\n",
    "def _load_data():\n",
    "        wikipedia_articles = csv.DictReader(csv_file)\n",
    "\n",
    "        for row in wikipedia_articles:\n",
    "            \n",
    "            yield {\n",
    "                \"_index\": index_name,\n",
    "                \"_id\": row['id'],\n",
    "                \"_source\": {\n",
    "                    'url' : row[\"url\"],\n",
    "                    'title' : row[\"title\"],\n",
    "                    'text' : row[\"text\"],\n",
    "                    'content_vector' : json.loads(row[\"content_vector\"]),\n",
    "                    'vector_id' : row[\"vector_id\"]\n",
    "                }\n",
    "            }\n",
    "\n",
    "csv_file.seek(0)\n",
    "succeeded = []\n",
    "failed = []\n",
    "\n",
    "\n",
    "with console.status(\"Indexing data...\") as status:\n",
    "    for success, item in helpers.parallel_bulk(client, actions=_load_data()):\n",
    "        if success:\n",
    "            succeeded.append(item)\n",
    "        else:\n",
    "            failed.append(item)\n"
   ]
  }
 ],
 "metadata": {
  "kernelspec": {
   "display_name": ".venv",
   "language": "python",
   "name": "python3"
  },
  "language_info": {
   "codemirror_mode": {
    "name": "ipython",
    "version": 3
   },
   "file_extension": ".py",
   "mimetype": "text/x-python",
   "name": "python",
   "nbconvert_exporter": "python",
   "pygments_lexer": "ipython3",
   "version": "3.12.2"
  }
 },
 "nbformat": 4,
 "nbformat_minor": 2
}
